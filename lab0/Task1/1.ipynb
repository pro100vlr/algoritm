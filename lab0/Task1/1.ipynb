{
 "cells": [
  {
   "cell_type": "code",
   "execution_count": 3,
   "metadata": {},
   "outputs": [
    {
     "name": "stdout",
     "output_type": "stream",
     "text": [
      "7\n",
      "Время работы: 4.202887332998216 секунд\n",
      "Память: 32.56МБ\n"
     ]
    }
   ],
   "source": [
    "import time \n",
    "import psutil\n",
    "t_start=time.perf_counter()\n",
    "a, b = map(int, input().split())\n",
    "if not(-(10**9)<=a<=10**9) or not(-(10)**9<=b<=10**9):\n",
    "    print(\"Неверные значения переменных\")\n",
    "    exit()\n",
    "print(a+b)\n",
    "print(\"Время работы: %s секунд\" %(time.perf_counter()- t_start))\n",
    "print(f\"Память: {psutil.Process().memory_info().rss / 1024 ** 2:.2f}МБ\")\n"
   ]
  }
 ],
 "metadata": {
  "kernelspec": {
   "display_name": "Python 3",
   "language": "python",
   "name": "python3"
  },
  "language_info": {
   "codemirror_mode": {
    "name": "ipython",
    "version": 3
   },
   "file_extension": ".py",
   "mimetype": "text/x-python",
   "name": "python",
   "nbconvert_exporter": "python",
   "pygments_lexer": "ipython3",
   "version": "3.12.5"
  }
 },
 "nbformat": 4,
 "nbformat_minor": 2
}
