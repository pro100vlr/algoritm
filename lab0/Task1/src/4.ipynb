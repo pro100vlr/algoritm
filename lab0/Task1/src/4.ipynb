{
 "cells": [
  {
   "cell_type": "code",
   "execution_count": 1,
   "metadata": {},
   "outputs": [
    {
     "name": "stdout",
     "output_type": "stream",
     "text": [
      "Время работы: 0.002451708074659109 секунд\n",
      "Память: 32.08МБ\n"
     ]
    }
   ],
   "source": [
    "import time \n",
    "import psutil\n",
    "import os\n",
    "os.chdir('../../')\n",
    "t_start=time.perf_counter()\n",
    "f = open(\"Task1/txtf/input.txt\", \"r\")\n",
    "a, b = map(int, f.readline().rstrip(\"\\n\").split())\n",
    "if not(-(10**9)<=a<=10**9) or not(-(10)**9<=b<=10**9):\n",
    "    print(\"Неверные значения переменных\")\n",
    "    exit()\n",
    "f=open('Task1/txtf/output.txt', 'w')\n",
    "print(int(a)+int(b**2), file=f)\n",
    "f.close()\n",
    "print(\"Время работы: %s секунд\" %(time.perf_counter()- t_start))\n",
    "print(f\"Память: {psutil.Process().memory_info().rss / 1024 ** 2:.2f}МБ\")"
   ]
  }
 ],
 "metadata": {
  "kernelspec": {
   "display_name": "Python 3",
   "language": "python",
   "name": "python3"
  },
  "language_info": {
   "codemirror_mode": {
    "name": "ipython",
    "version": 3
   },
   "file_extension": ".py",
   "mimetype": "text/x-python",
   "name": "python",
   "nbconvert_exporter": "python",
   "pygments_lexer": "ipython3",
   "version": "3.12.5"
  }
 },
 "nbformat": 4,
 "nbformat_minor": 2
}
