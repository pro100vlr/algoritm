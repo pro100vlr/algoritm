{
 "cells": [
  {
   "cell_type": "code",
   "execution_count": 1,
   "metadata": {},
   "outputs": [],
   "source": [
    "f = open(\"input.txt\", \"r\")\n",
    "a, b = map(int, f.readline().rstrip(\"\\n\").split())\n",
    "if not(-(10**9)<=a<=10**9) or not(-(10)**9<=b<=10**9):\n",
    "    print(\"Неверные значения переменных\")\n",
    "    exit()\n",
    "f=open('output.txt', 'w')\n",
    "print(int(a)+int(b), file=f)\n",
    "f.close()"
   ]
  }
 ],
 "metadata": {
  "kernelspec": {
   "display_name": "Python 3",
   "language": "python",
   "name": "python3"
  },
  "language_info": {
   "codemirror_mode": {
    "name": "ipython",
    "version": 3
   },
   "file_extension": ".py",
   "mimetype": "text/x-python",
   "name": "python",
   "nbconvert_exporter": "python",
   "pygments_lexer": "ipython3",
   "version": "3.12.5"
  }
 },
 "nbformat": 4,
 "nbformat_minor": 2
}
