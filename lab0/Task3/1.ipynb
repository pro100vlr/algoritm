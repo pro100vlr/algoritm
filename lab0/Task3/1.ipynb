{
 "cells": [
  {
   "cell_type": "code",
   "execution_count": 1,
   "metadata": {},
   "outputs": [
    {
     "name": "stdout",
     "output_type": "stream",
     "text": [
      "Время работы: 0.031201584031805396 секунд\n",
      "Память: 31.95 МБ\n"
     ]
    }
   ],
   "source": [
    "import time\n",
    "import psutil\n",
    "t_start=time.perf_counter()\n",
    "f1=1\n",
    "f2=1\n",
    "f = open(\"input.txt\", \"r\")\n",
    "n = int(f.readline().rstrip(\"\\n\"))\n",
    "if 0<=n<=10**7:\n",
    "    for i in range(2,n):\n",
    "        f1, f2 = f2, (f1+f2)%10\n",
    "    f=open('output.txt', 'w')\n",
    "    print(f2%10, file=f)\n",
    "    f.close()\n",
    "else:\n",
    "    f=open('output.txt', 'w')\n",
    "    print('Неверное значение', file=f)\n",
    "print(\"Время работы: %s секунд\" %(time.perf_counter()- t_start))\n",
    "print(f\"Память: {psutil.Process().memory_info().rss / 1024 ** 2:.2f} МБ\")"
   ]
  }
 ],
 "metadata": {
  "kernelspec": {
   "display_name": "Python 3",
   "language": "python",
   "name": "python3"
  },
  "language_info": {
   "codemirror_mode": {
    "name": "ipython",
    "version": 3
   },
   "file_extension": ".py",
   "mimetype": "text/x-python",
   "name": "python",
   "nbconvert_exporter": "python",
   "pygments_lexer": "ipython3",
   "version": "3.12.5"
  }
 },
 "nbformat": 4,
 "nbformat_minor": 2
}
