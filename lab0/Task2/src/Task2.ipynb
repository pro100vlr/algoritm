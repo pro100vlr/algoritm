{
 "cells": [
  {
   "cell_type": "code",
   "execution_count": 4,
   "metadata": {},
   "outputs": [
    {
     "name": "stdout",
     "output_type": "stream",
     "text": [
      "Время работы: 0.002214249921962619 секунд\n",
      "Память: 35.05МБ\n"
     ]
    }
   ],
   "source": [
    "import time \n",
    "import psutil\n",
    "import os\n",
    "os.chdir('../../')\n",
    "t_start=time.perf_counter()\n",
    "def calc_fib(i):\n",
    "    if i == 0:\n",
    "        return 0\n",
    "    elif i==1:\n",
    "        return 1\n",
    "    else:\n",
    "        return calc_fib(i-1) + calc_fib(i-2)\n",
    "f= open(\"Task2/txtf/input.txt\", \"r\")\n",
    "i=int(f.readline().rstrip(\"\\n\"))\n",
    "f.close()\n",
    "f=open('Task2/txtf/output.txt', 'w')\n",
    "if 0<=i<=45:\n",
    "    f=open('Task2/txtf/output.txt', 'w')\n",
    "    print(calc_fib(i), file=f)\n",
    "    f.close()\n",
    "else:\n",
    "    print(\"Неверные значения переменных\", file=f)\n",
    "    f.close()\n",
    "print(\"Время работы: %s секунд\" %(time.perf_counter()- t_start))\n",
    "print(f\"Память: {psutil.Process().memory_info().rss / 1024 ** 2:.2f}МБ\")"
   ]
  }
 ],
 "metadata": {
  "kernelspec": {
   "display_name": "Python 3",
   "language": "python",
   "name": "python3"
  },
  "language_info": {
   "codemirror_mode": {
    "name": "ipython",
    "version": 3
   },
   "file_extension": ".py",
   "mimetype": "text/x-python",
   "name": "python",
   "nbconvert_exporter": "python",
   "pygments_lexer": "ipython3",
   "version": "3.12.5"
  }
 },
 "nbformat": 4,
 "nbformat_minor": 2
}
