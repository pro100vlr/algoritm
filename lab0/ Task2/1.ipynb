{
 "cells": [
  {
   "cell_type": "code",
   "execution_count": 12,
   "metadata": {},
   "outputs": [],
   "source": [
    "def calc_fib(i):\n",
    "    if (i<2):\n",
    "        return i\n",
    "    return calc_fib(i-1)+calc_fib(i-2)\n",
    "f = open(\"input.txt\", \"r\")\n",
    "i = int(f.readline().rstrip(\"\\n\"))\n",
    "f=open('output.txt', 'w')\n",
    "print(calc_fib(i), file=f)\n",
    "f.close()"
   ]
  }
 ],
 "metadata": {
  "kernelspec": {
   "display_name": "Python 3",
   "language": "python",
   "name": "python3"
  },
  "language_info": {
   "codemirror_mode": {
    "name": "ipython",
    "version": 3
   },
   "file_extension": ".py",
   "mimetype": "text/x-python",
   "name": "python",
   "nbconvert_exporter": "python",
   "pygments_lexer": "ipython3",
   "version": "3.12.5"
  }
 },
 "nbformat": 4,
 "nbformat_minor": 2
}
